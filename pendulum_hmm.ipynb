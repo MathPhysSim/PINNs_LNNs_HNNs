{
 "cells": [
  {
   "cell_type": "code",
   "id": "initial_id",
   "metadata": {
    "collapsed": true,
    "ExecuteTime": {
     "end_time": "2025-02-10T09:58:49.947311Z",
     "start_time": "2025-02-10T09:58:47.506091Z"
    }
   },
   "source": [
    "import torch\n",
    "import torch.nn as nn\n",
    "import torch.optim as optim\n",
    "import numpy as np\n",
    "import matplotlib.pyplot as plt\n",
    "\n",
    "# Set device\n",
    "device = torch.device(\"cuda\" if torch.cuda.is_available() else \"cpu\")\n",
    "\n",
    "# Define the Hamiltonian Neural Network\n",
    "class HamiltonianNN(nn.Module):\n",
    "    def __init__(self, input_dim=2, hidden_dim=32):\n",
    "        super().__init__()\n",
    "        self.net = nn.Sequential(\n",
    "            nn.Linear(input_dim, hidden_dim),\n",
    "            nn.Tanh(),\n",
    "            nn.Linear(hidden_dim, hidden_dim),\n",
    "            nn.Tanh(),\n",
    "            nn.Linear(hidden_dim, 1)  # Output: H(q, p)\n",
    "        )\n",
    "\n",
    "    def forward(self, q, p):\n",
    "        state = torch.cat((q, p), dim=1)  # Concatenate q and p\n",
    "        return self.net(state)\n"
   ],
   "outputs": [],
   "execution_count": 1
  },
  {
   "metadata": {
    "ExecuteTime": {
     "end_time": "2025-02-10T09:59:06.799925Z",
     "start_time": "2025-02-10T09:59:06.795121Z"
    }
   },
   "cell_type": "code",
   "source": [
    "# Function to compute time derivatives using the learned Hamiltonian\n",
    "def compute_time_derivatives(model, q, p):\n",
    "    q.requires_grad_(True)\n",
    "    p.requires_grad_(True)\n",
    "\n",
    "    H = model(q, p)  # Compute Hamiltonian\n",
    "\n",
    "    # Compute derivatives using autograd\n",
    "    dH_dq = torch.autograd.grad(H, q, grad_outputs=torch.ones_like(H), create_graph=True)[0]\n",
    "    dH_dp = torch.autograd.grad(H, p, grad_outputs=torch.ones_like(H), create_graph=True)[0]\n",
    "\n",
    "    dq_dt = dH_dp\n",
    "    dp_dt = -dH_dq\n",
    "\n",
    "    return dq_dt, dp_dt\n",
    "\n",
    "# Generate synthetic training data (Pendulum data)\n",
    "def generate_pendulum_data(n_samples=1000, noise=0.0):\n",
    "    q = np.linspace(-np.pi, np.pi, n_samples)  # Angle theta\n",
    "    p = np.linspace(-2, 2, n_samples)  # Momentum\n",
    "\n",
    "    q, p = np.meshgrid(q, p)\n",
    "    q, p = q.ravel(), p.ravel()\n",
    "\n",
    "    # True Hamiltonian for a pendulum\n",
    "    m, g, l = 1.0, 9.81, 1.0\n",
    "    H_true = (p**2 / (2 * m * l**2)) + m * g * l * (1 - np.cos(q))\n",
    "\n",
    "    # Compute derivatives\n",
    "    dq_dt = p / (m * l**2)\n",
    "    dp_dt = -m * g * l * np.sin(q)\n",
    "\n",
    "    # Add noise (optional)\n",
    "    dq_dt += noise * np.random.randn(*dq_dt.shape)\n",
    "    dp_dt += noise * np.random.randn(*dp_dt.shape)\n",
    "\n",
    "    return q, p, dq_dt, dp_dt, H_true\n",
    "\n",
    "# Convert data to PyTorch tensors\n",
    "def prepare_data():\n",
    "    q, p, dq_dt, dp_dt, _ = generate_pendulum_data()\n",
    "\n",
    "    q = torch.tensor(q, dtype=torch.float32).view(-1, 1).to(device)\n",
    "    p = torch.tensor(p, dtype=torch.float32).view(-1, 1).to(device)\n",
    "    dq_dt = torch.tensor(dq_dt, dtype=torch.float32).view(-1, 1).to(device)\n",
    "    dp_dt = torch.tensor(dp_dt, dtype=torch.float32).view(-1, 1).to(device)\n",
    "\n",
    "    return q, p, dq_dt, dp_dt\n"
   ],
   "id": "f7fbce109df2ae55",
   "outputs": [],
   "execution_count": 2
  },
  {
   "metadata": {
    "ExecuteTime": {
     "end_time": "2025-02-10T10:36:12.283579Z",
     "start_time": "2025-02-10T10:00:15.428053Z"
    }
   },
   "cell_type": "code",
   "source": [
    "# Training function\n",
    "def train_hnn(model, q, p, dq_dt_true, dp_dt_true, epochs=5000, lr=0.001):\n",
    "    optimizer = optim.Adam(model.parameters(), lr=lr)\n",
    "    loss_fn = nn.MSELoss()\n",
    "\n",
    "    for epoch in range(epochs):\n",
    "        optimizer.zero_grad()\n",
    "\n",
    "        dq_dt_pred, dp_dt_pred = compute_time_derivatives(model, q, p)\n",
    "\n",
    "        loss = loss_fn(dq_dt_pred, dq_dt_true) + loss_fn(dp_dt_pred, dp_dt_true)\n",
    "        loss.backward()\n",
    "        optimizer.step()\n",
    "\n",
    "        if epoch % 50 == 0:\n",
    "            print(f\"Epoch {epoch}: Loss = {loss.item():.6f}\")\n",
    "\n",
    "# Initialize and train the model\n",
    "model = HamiltonianNN().to(device)\n",
    "q, p, dq_dt_true, dp_dt_true = prepare_data()\n",
    "train_hnn(model, q, p, dq_dt_true, dp_dt_true)\n"
   ],
   "id": "ee110f49ec1c0a67",
   "outputs": [
    {
     "name": "stdout",
     "output_type": "stream",
     "text": [
      "Epoch 0: Loss = 49.978214\n",
      "Epoch 50: Loss = 44.599838\n",
      "Epoch 100: Loss = 31.845350\n",
      "Epoch 150: Loss = 20.098829\n",
      "Epoch 200: Loss = 13.934344\n",
      "Epoch 250: Loss = 10.153500\n",
      "Epoch 300: Loss = 7.565677\n",
      "Epoch 350: Loss = 5.730624\n",
      "Epoch 400: Loss = 4.397599\n",
      "Epoch 450: Loss = 3.428812\n",
      "Epoch 500: Loss = 2.697982\n",
      "Epoch 550: Loss = 1.804302\n",
      "Epoch 600: Loss = 1.409672\n",
      "Epoch 650: Loss = 1.128467\n",
      "Epoch 700: Loss = 0.918331\n",
      "Epoch 750: Loss = 0.756851\n",
      "Epoch 800: Loss = 0.629931\n",
      "Epoch 850: Loss = 0.527845\n",
      "Epoch 900: Loss = 0.443997\n",
      "Epoch 950: Loss = 0.373960\n",
      "Epoch 1000: Loss = 0.316646\n",
      "Epoch 1050: Loss = 0.273018\n",
      "Epoch 1100: Loss = 0.240194\n",
      "Epoch 1150: Loss = 0.215025\n",
      "Epoch 1200: Loss = 0.195445\n",
      "Epoch 1250: Loss = 0.179967\n",
      "Epoch 1300: Loss = 0.167529\n",
      "Epoch 1350: Loss = 0.157395\n",
      "Epoch 1400: Loss = 0.149039\n",
      "Epoch 1450: Loss = 0.142044\n",
      "Epoch 1500: Loss = 0.136063\n",
      "Epoch 1550: Loss = 0.130808\n",
      "Epoch 1600: Loss = 0.126038\n",
      "Epoch 1650: Loss = 0.121542\n",
      "Epoch 1700: Loss = 0.117115\n",
      "Epoch 1750: Loss = 0.112526\n",
      "Epoch 1800: Loss = 0.107501\n",
      "Epoch 1850: Loss = 0.101731\n",
      "Epoch 1900: Loss = 0.094927\n",
      "Epoch 1950: Loss = 0.087117\n",
      "Epoch 2000: Loss = 0.078950\n",
      "Epoch 2050: Loss = 0.071227\n",
      "Epoch 2100: Loss = 0.064407\n",
      "Epoch 2150: Loss = 0.058620\n",
      "Epoch 2200: Loss = 0.053820\n",
      "Epoch 2250: Loss = 0.049883\n",
      "Epoch 2300: Loss = 0.046655\n",
      "Epoch 2350: Loss = 0.043984\n",
      "Epoch 2400: Loss = 0.041741\n",
      "Epoch 2450: Loss = 0.039818\n",
      "Epoch 2500: Loss = 0.038121\n",
      "Epoch 2550: Loss = 0.036560\n",
      "Epoch 2600: Loss = 0.035074\n",
      "Epoch 2650: Loss = 0.033652\n",
      "Epoch 2700: Loss = 0.032311\n",
      "Epoch 2750: Loss = 0.031074\n",
      "Epoch 2800: Loss = 0.029955\n",
      "Epoch 2850: Loss = 0.028958\n",
      "Epoch 2900: Loss = 0.028076\n",
      "Epoch 2950: Loss = 0.027300\n",
      "Epoch 3000: Loss = 0.026618\n",
      "Epoch 3050: Loss = 0.026016\n",
      "Epoch 3100: Loss = 0.025480\n",
      "Epoch 3150: Loss = 0.024995\n",
      "Epoch 3200: Loss = 0.024548\n",
      "Epoch 3250: Loss = 0.024131\n",
      "Epoch 3300: Loss = 0.023737\n",
      "Epoch 3350: Loss = 0.023360\n",
      "Epoch 3400: Loss = 0.022999\n",
      "Epoch 3450: Loss = 0.022652\n",
      "Epoch 3500: Loss = 0.022315\n",
      "Epoch 3550: Loss = 0.021990\n",
      "Epoch 3600: Loss = 0.021674\n",
      "Epoch 3650: Loss = 0.021368\n",
      "Epoch 3700: Loss = 0.021069\n",
      "Epoch 3750: Loss = 0.020777\n",
      "Epoch 3800: Loss = 0.020491\n",
      "Epoch 3850: Loss = 0.020209\n",
      "Epoch 3900: Loss = 0.019930\n",
      "Epoch 3950: Loss = 0.019651\n",
      "Epoch 4000: Loss = 0.019369\n",
      "Epoch 4050: Loss = 0.019077\n",
      "Epoch 4100: Loss = 0.018765\n",
      "Epoch 4150: Loss = 0.018406\n",
      "Epoch 4200: Loss = 0.017957\n",
      "Epoch 4250: Loss = 0.017423\n",
      "Epoch 4300: Loss = 0.016857\n",
      "Epoch 4350: Loss = 0.016250\n",
      "Epoch 4400: Loss = 0.015594\n",
      "Epoch 4450: Loss = 0.014887\n",
      "Epoch 4500: Loss = 0.014135\n",
      "Epoch 4550: Loss = 0.013344\n",
      "Epoch 4600: Loss = 0.012525\n",
      "Epoch 4650: Loss = 0.011695\n",
      "Epoch 4700: Loss = 0.010871\n",
      "Epoch 4750: Loss = 0.010071\n",
      "Epoch 4800: Loss = 0.009308\n",
      "Epoch 4850: Loss = 0.008591\n",
      "Epoch 4900: Loss = 0.007925\n",
      "Epoch 4950: Loss = 0.007311\n"
     ]
    }
   ],
   "execution_count": 4
  },
  {
   "metadata": {
    "ExecuteTime": {
     "end_time": "2025-02-10T11:00:16.872562Z",
     "start_time": "2025-02-10T11:00:16.424787Z"
    }
   },
   "cell_type": "code",
   "source": [
    "# Evaluate learned Hamiltonian\n",
    "q_test, p_test, _, _, H_true = generate_pendulum_data(n_samples=100)\n",
    "q_test = torch.tensor(q_test, dtype=torch.float32).view(-1, 1).to(device)\n",
    "p_test = torch.tensor(p_test, dtype=torch.float32).view(-1, 1).to(device)\n",
    "\n",
    "H_learned = model(q_test, p_test).cpu().detach().numpy()\n",
    "\n",
    "# Plot results\n",
    "plt.figure(figsize=(8, 5))\n",
    "plt.scatter(H_true, H_learned, alpha=0.5)\n",
    "plt.xlabel(\"True Hamiltonian\")\n",
    "plt.ylabel(\"Learned Hamiltonian\")\n",
    "plt.title(\"Hamiltonian Neural Network: True vs Learned\")\n",
    "plt.grid()\n",
    "plt.show()\n"
   ],
   "id": "4f360d321110175f",
   "outputs": [
    {
     "data": {
      "text/plain": [
       "<Figure size 800x500 with 1 Axes>"
      ],
      "image/png": "[encoded data removed]"
     },
     "metadata": {},
     "output_type": "display_data"
    }
   ],
   "execution_count": 5
  },
  {
   "metadata": {
    "ExecuteTime": {
     "end_time": "2025-02-10T12:15:33.478231Z",
     "start_time": "2025-02-10T12:15:33.381137Z"
    }
   },
   "cell_type": "code",
   "source": "",
   "id": "84b2dc0342f40bd5",
   "outputs": [
    {
     "ename": "RuntimeError",
     "evalue": "mat1 and mat2 shapes cannot be multiplied (40x80 and 2x32)",
     "output_type": "error",
     "traceback": [
      "\u001B[0;31m---------------------------------------------------------------------------\u001B[0m",
      "\u001B[0;31mRuntimeError\u001B[0m                              Traceback (most recent call last)",
      "Cell \u001B[0;32mIn[6], line 32\u001B[0m\n\u001B[1;32m     29\u001B[0m P_grid\u001B[38;5;241m.\u001B[39mrequires_grad_(\u001B[38;5;28;01mTrue\u001B[39;00m)\n\u001B[1;32m     31\u001B[0m \u001B[38;5;66;03m#    b) Get H_learned on the entire grid\u001B[39;00m\n\u001B[0;32m---> 32\u001B[0m H_learned_grid \u001B[38;5;241m=\u001B[39m \u001B[43mmodel\u001B[49m\u001B[43m(\u001B[49m\u001B[43mQ_grid\u001B[49m\u001B[43m,\u001B[49m\u001B[43m \u001B[49m\u001B[43mP_grid\u001B[49m\u001B[43m)\u001B[49m  \u001B[38;5;66;03m# shape [num_points, num_points]\u001B[39;00m\n\u001B[1;32m     34\u001B[0m \u001B[38;5;66;03m#    c) Compute partial derivatives via autograd\u001B[39;00m\n\u001B[1;32m     35\u001B[0m \u001B[38;5;66;03m#       Summation trick (we want gradient at each point):\u001B[39;00m\n\u001B[1;32m     36\u001B[0m grad \u001B[38;5;241m=\u001B[39m torch\u001B[38;5;241m.\u001B[39mautograd\u001B[38;5;241m.\u001B[39mgrad(\n\u001B[1;32m     37\u001B[0m     outputs\u001B[38;5;241m=\u001B[39mH_learned_grid\u001B[38;5;241m.\u001B[39msum(),\n\u001B[1;32m     38\u001B[0m     inputs\u001B[38;5;241m=\u001B[39m[Q_grid, P_grid],\n\u001B[1;32m     39\u001B[0m     create_graph\u001B[38;5;241m=\u001B[39m\u001B[38;5;28;01mFalse\u001B[39;00m\n\u001B[1;32m     40\u001B[0m )\n",
      "File \u001B[0;32m/opt/anaconda3/envs/2025_02_python_3_12/lib/python3.12/site-packages/torch/nn/modules/module.py:1739\u001B[0m, in \u001B[0;36mModule._wrapped_call_impl\u001B[0;34m(self, *args, **kwargs)\u001B[0m\n\u001B[1;32m   1737\u001B[0m     \u001B[38;5;28;01mreturn\u001B[39;00m \u001B[38;5;28mself\u001B[39m\u001B[38;5;241m.\u001B[39m_compiled_call_impl(\u001B[38;5;241m*\u001B[39margs, \u001B[38;5;241m*\u001B[39m\u001B[38;5;241m*\u001B[39mkwargs)  \u001B[38;5;66;03m# type: ignore[misc]\u001B[39;00m\n\u001B[1;32m   1738\u001B[0m \u001B[38;5;28;01melse\u001B[39;00m:\n\u001B[0;32m-> 1739\u001B[0m     \u001B[38;5;28;01mreturn\u001B[39;00m \u001B[38;5;28;43mself\u001B[39;49m\u001B[38;5;241;43m.\u001B[39;49m\u001B[43m_call_impl\u001B[49m\u001B[43m(\u001B[49m\u001B[38;5;241;43m*\u001B[39;49m\u001B[43margs\u001B[49m\u001B[43m,\u001B[49m\u001B[43m \u001B[49m\u001B[38;5;241;43m*\u001B[39;49m\u001B[38;5;241;43m*\u001B[39;49m\u001B[43mkwargs\u001B[49m\u001B[43m)\u001B[49m\n",
      "File \u001B[0;32m/opt/anaconda3/envs/2025_02_python_3_12/lib/python3.12/site-packages/torch/nn/modules/module.py:1750\u001B[0m, in \u001B[0;36mModule._call_impl\u001B[0;34m(self, *args, **kwargs)\u001B[0m\n\u001B[1;32m   1745\u001B[0m \u001B[38;5;66;03m# If we don't have any hooks, we want to skip the rest of the logic in\u001B[39;00m\n\u001B[1;32m   1746\u001B[0m \u001B[38;5;66;03m# this function, and just call forward.\u001B[39;00m\n\u001B[1;32m   1747\u001B[0m \u001B[38;5;28;01mif\u001B[39;00m \u001B[38;5;129;01mnot\u001B[39;00m (\u001B[38;5;28mself\u001B[39m\u001B[38;5;241m.\u001B[39m_backward_hooks \u001B[38;5;129;01mor\u001B[39;00m \u001B[38;5;28mself\u001B[39m\u001B[38;5;241m.\u001B[39m_backward_pre_hooks \u001B[38;5;129;01mor\u001B[39;00m \u001B[38;5;28mself\u001B[39m\u001B[38;5;241m.\u001B[39m_forward_hooks \u001B[38;5;129;01mor\u001B[39;00m \u001B[38;5;28mself\u001B[39m\u001B[38;5;241m.\u001B[39m_forward_pre_hooks\n\u001B[1;32m   1748\u001B[0m         \u001B[38;5;129;01mor\u001B[39;00m _global_backward_pre_hooks \u001B[38;5;129;01mor\u001B[39;00m _global_backward_hooks\n\u001B[1;32m   1749\u001B[0m         \u001B[38;5;129;01mor\u001B[39;00m _global_forward_hooks \u001B[38;5;129;01mor\u001B[39;00m _global_forward_pre_hooks):\n\u001B[0;32m-> 1750\u001B[0m     \u001B[38;5;28;01mreturn\u001B[39;00m \u001B[43mforward_call\u001B[49m\u001B[43m(\u001B[49m\u001B[38;5;241;43m*\u001B[39;49m\u001B[43margs\u001B[49m\u001B[43m,\u001B[49m\u001B[43m \u001B[49m\u001B[38;5;241;43m*\u001B[39;49m\u001B[38;5;241;43m*\u001B[39;49m\u001B[43mkwargs\u001B[49m\u001B[43m)\u001B[49m\n\u001B[1;32m   1752\u001B[0m result \u001B[38;5;241m=\u001B[39m \u001B[38;5;28;01mNone\u001B[39;00m\n\u001B[1;32m   1753\u001B[0m called_always_called_hooks \u001B[38;5;241m=\u001B[39m \u001B[38;5;28mset\u001B[39m()\n",
      "Cell \u001B[0;32mIn[1], line 24\u001B[0m, in \u001B[0;36mHamiltonianNN.forward\u001B[0;34m(self, q, p)\u001B[0m\n\u001B[1;32m     22\u001B[0m \u001B[38;5;28;01mdef\u001B[39;00m\u001B[38;5;250m \u001B[39m\u001B[38;5;21mforward\u001B[39m(\u001B[38;5;28mself\u001B[39m, q, p):\n\u001B[1;32m     23\u001B[0m     state \u001B[38;5;241m=\u001B[39m torch\u001B[38;5;241m.\u001B[39mcat((q, p), dim\u001B[38;5;241m=\u001B[39m\u001B[38;5;241m1\u001B[39m)  \u001B[38;5;66;03m# Concatenate q and p\u001B[39;00m\n\u001B[0;32m---> 24\u001B[0m     \u001B[38;5;28;01mreturn\u001B[39;00m \u001B[38;5;28;43mself\u001B[39;49m\u001B[38;5;241;43m.\u001B[39;49m\u001B[43mnet\u001B[49m\u001B[43m(\u001B[49m\u001B[43mstate\u001B[49m\u001B[43m)\u001B[49m\n",
      "File \u001B[0;32m/opt/anaconda3/envs/2025_02_python_3_12/lib/python3.12/site-packages/torch/nn/modules/module.py:1739\u001B[0m, in \u001B[0;36mModule._wrapped_call_impl\u001B[0;34m(self, *args, **kwargs)\u001B[0m\n\u001B[1;32m   1737\u001B[0m     \u001B[38;5;28;01mreturn\u001B[39;00m \u001B[38;5;28mself\u001B[39m\u001B[38;5;241m.\u001B[39m_compiled_call_impl(\u001B[38;5;241m*\u001B[39margs, \u001B[38;5;241m*\u001B[39m\u001B[38;5;241m*\u001B[39mkwargs)  \u001B[38;5;66;03m# type: ignore[misc]\u001B[39;00m\n\u001B[1;32m   1738\u001B[0m \u001B[38;5;28;01melse\u001B[39;00m:\n\u001B[0;32m-> 1739\u001B[0m     \u001B[38;5;28;01mreturn\u001B[39;00m \u001B[38;5;28;43mself\u001B[39;49m\u001B[38;5;241;43m.\u001B[39;49m\u001B[43m_call_impl\u001B[49m\u001B[43m(\u001B[49m\u001B[38;5;241;43m*\u001B[39;49m\u001B[43margs\u001B[49m\u001B[43m,\u001B[49m\u001B[43m \u001B[49m\u001B[38;5;241;43m*\u001B[39;49m\u001B[38;5;241;43m*\u001B[39;49m\u001B[43mkwargs\u001B[49m\u001B[43m)\u001B[49m\n",
      "File \u001B[0;32m/opt/anaconda3/envs/2025_02_python_3_12/lib/python3.12/site-packages/torch/nn/modules/module.py:1750\u001B[0m, in \u001B[0;36mModule._call_impl\u001B[0;34m(self, *args, **kwargs)\u001B[0m\n\u001B[1;32m   1745\u001B[0m \u001B[38;5;66;03m# If we don't have any hooks, we want to skip the rest of the logic in\u001B[39;00m\n\u001B[1;32m   1746\u001B[0m \u001B[38;5;66;03m# this function, and just call forward.\u001B[39;00m\n\u001B[1;32m   1747\u001B[0m \u001B[38;5;28;01mif\u001B[39;00m \u001B[38;5;129;01mnot\u001B[39;00m (\u001B[38;5;28mself\u001B[39m\u001B[38;5;241m.\u001B[39m_backward_hooks \u001B[38;5;129;01mor\u001B[39;00m \u001B[38;5;28mself\u001B[39m\u001B[38;5;241m.\u001B[39m_backward_pre_hooks \u001B[38;5;129;01mor\u001B[39;00m \u001B[38;5;28mself\u001B[39m\u001B[38;5;241m.\u001B[39m_forward_hooks \u001B[38;5;129;01mor\u001B[39;00m \u001B[38;5;28mself\u001B[39m\u001B[38;5;241m.\u001B[39m_forward_pre_hooks\n\u001B[1;32m   1748\u001B[0m         \u001B[38;5;129;01mor\u001B[39;00m _global_backward_pre_hooks \u001B[38;5;129;01mor\u001B[39;00m _global_backward_hooks\n\u001B[1;32m   1749\u001B[0m         \u001B[38;5;129;01mor\u001B[39;00m _global_forward_hooks \u001B[38;5;129;01mor\u001B[39;00m _global_forward_pre_hooks):\n\u001B[0;32m-> 1750\u001B[0m     \u001B[38;5;28;01mreturn\u001B[39;00m \u001B[43mforward_call\u001B[49m\u001B[43m(\u001B[49m\u001B[38;5;241;43m*\u001B[39;49m\u001B[43margs\u001B[49m\u001B[43m,\u001B[49m\u001B[43m \u001B[49m\u001B[38;5;241;43m*\u001B[39;49m\u001B[38;5;241;43m*\u001B[39;49m\u001B[43mkwargs\u001B[49m\u001B[43m)\u001B[49m\n\u001B[1;32m   1752\u001B[0m result \u001B[38;5;241m=\u001B[39m \u001B[38;5;28;01mNone\u001B[39;00m\n\u001B[1;32m   1753\u001B[0m called_always_called_hooks \u001B[38;5;241m=\u001B[39m \u001B[38;5;28mset\u001B[39m()\n",
      "File \u001B[0;32m/opt/anaconda3/envs/2025_02_python_3_12/lib/python3.12/site-packages/torch/nn/modules/container.py:250\u001B[0m, in \u001B[0;36mSequential.forward\u001B[0;34m(self, input)\u001B[0m\n\u001B[1;32m    248\u001B[0m \u001B[38;5;28;01mdef\u001B[39;00m\u001B[38;5;250m \u001B[39m\u001B[38;5;21mforward\u001B[39m(\u001B[38;5;28mself\u001B[39m, \u001B[38;5;28minput\u001B[39m):\n\u001B[1;32m    249\u001B[0m     \u001B[38;5;28;01mfor\u001B[39;00m module \u001B[38;5;129;01min\u001B[39;00m \u001B[38;5;28mself\u001B[39m:\n\u001B[0;32m--> 250\u001B[0m         \u001B[38;5;28minput\u001B[39m \u001B[38;5;241m=\u001B[39m \u001B[43mmodule\u001B[49m\u001B[43m(\u001B[49m\u001B[38;5;28;43minput\u001B[39;49m\u001B[43m)\u001B[49m\n\u001B[1;32m    251\u001B[0m     \u001B[38;5;28;01mreturn\u001B[39;00m \u001B[38;5;28minput\u001B[39m\n",
      "File \u001B[0;32m/opt/anaconda3/envs/2025_02_python_3_12/lib/python3.12/site-packages/torch/nn/modules/module.py:1739\u001B[0m, in \u001B[0;36mModule._wrapped_call_impl\u001B[0;34m(self, *args, **kwargs)\u001B[0m\n\u001B[1;32m   1737\u001B[0m     \u001B[38;5;28;01mreturn\u001B[39;00m \u001B[38;5;28mself\u001B[39m\u001B[38;5;241m.\u001B[39m_compiled_call_impl(\u001B[38;5;241m*\u001B[39margs, \u001B[38;5;241m*\u001B[39m\u001B[38;5;241m*\u001B[39mkwargs)  \u001B[38;5;66;03m# type: ignore[misc]\u001B[39;00m\n\u001B[1;32m   1738\u001B[0m \u001B[38;5;28;01melse\u001B[39;00m:\n\u001B[0;32m-> 1739\u001B[0m     \u001B[38;5;28;01mreturn\u001B[39;00m \u001B[38;5;28;43mself\u001B[39;49m\u001B[38;5;241;43m.\u001B[39;49m\u001B[43m_call_impl\u001B[49m\u001B[43m(\u001B[49m\u001B[38;5;241;43m*\u001B[39;49m\u001B[43margs\u001B[49m\u001B[43m,\u001B[49m\u001B[43m \u001B[49m\u001B[38;5;241;43m*\u001B[39;49m\u001B[38;5;241;43m*\u001B[39;49m\u001B[43mkwargs\u001B[49m\u001B[43m)\u001B[49m\n",
      "File \u001B[0;32m/opt/anaconda3/envs/2025_02_python_3_12/lib/python3.12/site-packages/torch/nn/modules/module.py:1750\u001B[0m, in \u001B[0;36mModule._call_impl\u001B[0;34m(self, *args, **kwargs)\u001B[0m\n\u001B[1;32m   1745\u001B[0m \u001B[38;5;66;03m# If we don't have any hooks, we want to skip the rest of the logic in\u001B[39;00m\n\u001B[1;32m   1746\u001B[0m \u001B[38;5;66;03m# this function, and just call forward.\u001B[39;00m\n\u001B[1;32m   1747\u001B[0m \u001B[38;5;28;01mif\u001B[39;00m \u001B[38;5;129;01mnot\u001B[39;00m (\u001B[38;5;28mself\u001B[39m\u001B[38;5;241m.\u001B[39m_backward_hooks \u001B[38;5;129;01mor\u001B[39;00m \u001B[38;5;28mself\u001B[39m\u001B[38;5;241m.\u001B[39m_backward_pre_hooks \u001B[38;5;129;01mor\u001B[39;00m \u001B[38;5;28mself\u001B[39m\u001B[38;5;241m.\u001B[39m_forward_hooks \u001B[38;5;129;01mor\u001B[39;00m \u001B[38;5;28mself\u001B[39m\u001B[38;5;241m.\u001B[39m_forward_pre_hooks\n\u001B[1;32m   1748\u001B[0m         \u001B[38;5;129;01mor\u001B[39;00m _global_backward_pre_hooks \u001B[38;5;129;01mor\u001B[39;00m _global_backward_hooks\n\u001B[1;32m   1749\u001B[0m         \u001B[38;5;129;01mor\u001B[39;00m _global_forward_hooks \u001B[38;5;129;01mor\u001B[39;00m _global_forward_pre_hooks):\n\u001B[0;32m-> 1750\u001B[0m     \u001B[38;5;28;01mreturn\u001B[39;00m \u001B[43mforward_call\u001B[49m\u001B[43m(\u001B[49m\u001B[38;5;241;43m*\u001B[39;49m\u001B[43margs\u001B[49m\u001B[43m,\u001B[49m\u001B[43m \u001B[49m\u001B[38;5;241;43m*\u001B[39;49m\u001B[38;5;241;43m*\u001B[39;49m\u001B[43mkwargs\u001B[49m\u001B[43m)\u001B[49m\n\u001B[1;32m   1752\u001B[0m result \u001B[38;5;241m=\u001B[39m \u001B[38;5;28;01mNone\u001B[39;00m\n\u001B[1;32m   1753\u001B[0m called_always_called_hooks \u001B[38;5;241m=\u001B[39m \u001B[38;5;28mset\u001B[39m()\n",
      "File \u001B[0;32m/opt/anaconda3/envs/2025_02_python_3_12/lib/python3.12/site-packages/torch/nn/modules/linear.py:125\u001B[0m, in \u001B[0;36mLinear.forward\u001B[0;34m(self, input)\u001B[0m\n\u001B[1;32m    124\u001B[0m \u001B[38;5;28;01mdef\u001B[39;00m\u001B[38;5;250m \u001B[39m\u001B[38;5;21mforward\u001B[39m(\u001B[38;5;28mself\u001B[39m, \u001B[38;5;28minput\u001B[39m: Tensor) \u001B[38;5;241m-\u001B[39m\u001B[38;5;241m>\u001B[39m Tensor:\n\u001B[0;32m--> 125\u001B[0m     \u001B[38;5;28;01mreturn\u001B[39;00m \u001B[43mF\u001B[49m\u001B[38;5;241;43m.\u001B[39;49m\u001B[43mlinear\u001B[49m\u001B[43m(\u001B[49m\u001B[38;5;28;43minput\u001B[39;49m\u001B[43m,\u001B[49m\u001B[43m \u001B[49m\u001B[38;5;28;43mself\u001B[39;49m\u001B[38;5;241;43m.\u001B[39;49m\u001B[43mweight\u001B[49m\u001B[43m,\u001B[49m\u001B[43m \u001B[49m\u001B[38;5;28;43mself\u001B[39;49m\u001B[38;5;241;43m.\u001B[39;49m\u001B[43mbias\u001B[49m\u001B[43m)\u001B[49m\n",
      "\u001B[0;31mRuntimeError\u001B[0m: mat1 and mat2 shapes cannot be multiplied (40x80 and 2x32)"
     ]
    }
   ],
   "execution_count": 6
  }
 ],
 "metadata": {
  "kernelspec": {
   "display_name": "Python 3",
   "language": "python",
   "name": "python3"
  },
  "language_info": {
   "codemirror_mode": {
    "name": "ipython",
    "version": 2
   },
   "file_extension": ".py",
   "mimetype": "text/x-python",
   "name": "python",
   "nbconvert_exporter": "python",
   "pygments_lexer": "ipython2",
   "version": "2.7.6"
  }
 },
 "nbformat": 4,
 "nbformat_minor": 5
}
